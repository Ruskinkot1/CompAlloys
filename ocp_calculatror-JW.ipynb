{
 "cells": [
  {
   "cell_type": "code",
   "id": "initial_id",
   "metadata": {
    "collapsed": true,
    "jupyter": {
     "is_executing": true
    },
    "ExecuteTime": {
     "start_time": "2025-04-26T19:07:54.606242Z"
    }
   },
   "source": [
    "import os\n",
    "import random\n",
    "from ase.build import bulk, molecule, add_adsorbate, surface\n",
    "from ase import Atoms\n",
    "from ase.io.vasp import write_vasp\n",
    "from ase.optimize import LBFGS\n",
    "from ase.io import Trajectory\n",
    "from ase.constraints import FixAtoms\n",
    "from fairchem.core import OCPCalculator\n",
    "import pandas as pd\n",
    "\n",
    "\n",
    "# 参数配置\n",
    "elements = ['Ag', 'Au', 'Cu', 'Pd', 'Pt']  # 示例元素（可根据需求修改）\n",
    "slab_size = (6, 6, 3)\n",
    "num_samples = 2000\n",
    "\n",
    "# 吸附物配置（保持不变）\n",
    "adsorbate_names = ['CH4', 'CH3', 'CO', 'CO2', 'CH', 'C', 'HCO', 'CH3O', 'H', 'H2', 'H2O', 'OH']\n",
    "adsorbates = {name: molecule(name) for name in adsorbate_names}\n",
    "adsorbates.update({\n",
    "    'CH2': Atoms('CH2', positions=[[0,0,0], [0,0,1.09], [0,0,-1.09]]),\n",
    "    'O': Atoms('O', positions=[[0,0,0]]),\n",
    "    'HCOO': Atoms('HCOO', positions=[[0,0,0], [0,0,1.23], [0,0,-1.23], [0,0,1.0]]),\n",
    "    'COOH': Atoms('COOH', positions=[[0,0,0], [0,0,1.23], [0,0,-1.23], [0,0.97,-1.23]]),\n",
    "    'CH2O': Atoms('CH2O', positions=[[0,0,0], [0,0,1.21], [0,0.94,-0.54], [0,-0.94,-0.54]])\n",
    "})\n",
    "\n",
    "positions = [(6,6), (6,7), (5,7), (7,5), (5,6), (6,5), (5,5), (7,7)]\n",
    "\n",
    "results = []\n",
    "\n",
    "# 主循环\n",
    "for i, (slab, composition) in enumerate(generate_hea_slabs(elements, slab_size, num_samples)):\n",
    "    # 获取唯一的元素组合（按字母排序）\n",
    "    unique_elements = sorted(set(composition))  # 去重后排序，例如 ['Hf', 'Nb', 'Ta', 'Ti', 'Zr']\n",
    "    combo_name = \"\".join(unique_elements) + \"-FCC\"  # 生成组合名称如 HfNbTaTiZr-BCC\n",
    "\n",
    "    # 创建组合专属文件夹\n",
    "    combo_dir = os.path.join(main_output_dir, combo_name)\n",
    "    os.makedirs(combo_dir, exist_ok=True)\n",
    "\n",
    "    slab.set_pbc([True, True, False])\n",
    "\n",
    "    for ads_name, ads in adsorbates.items():\n",
    "        for pos in positions:\n",
    "            # 文件路径\n",
    "            traj_path = os.path.join(combo_dir, f\"slab_{i+1}_{ads_name}_{pos[0]}_{pos[1]}.traj\")\n",
    "            poscar_filename = os.path.join(combo_dir, f\"slab_{i+1}_{ads_name}_{pos[0]}_{pos[1]}.vasp\")\n",
    "\n",
    "            # 结构处理\n",
    "            slab_ads = slab.copy()\n",
    "            add_adsorbate(slab_ads, ads, height=1.8, position=pos)\n",
    "            slab_ads.center(axis=2, vacuum=10)\n",
    "            constraint = FixAtoms(indices=range(len(slab)))\n",
    "            slab_ads.set_constraint(constraint)\n",
    "            slab_ads.calc = calc\n",
    "\n",
    "            # 优化并保存\n",
    "            dyn = LBFGS(slab_ads, trajectory=traj_path)\n",
    "            dyn.run(fmax=0.05, steps=200)\n",
    "            energy = slab_ads.get_potential_energy()\n",
    "            write_vasp(poscar_filename, slab_ads, direct=True, sort=True, vasp5=True)\n",
    "\n",
    "            # 记录结果\n",
    "            results.append({\n",
    "                \"slab_index\": i+1,\n",
    "                \"element_combo\": \"-\".join(unique_elements),  # 记录元素组合\n",
    "                \"adsorbate\": ads_name,\n",
    "                \"position\": pos,\n",
    "                \"energy\": energy,\n",
    "                \"traj_file\": traj_path,\n",
    "                \"poscar_file\": poscar_filename\n",
    "            })\n",
    "\n",
    "    # 定期保存进度\n",
    "    if (i + 1) % 50 == 0:\n",
    "        df_results = pd.DataFrame(results)\n",
    "        df_results.to_csv(os.path.join(main_output_dir, \"energy_results.csv\"), index=False)\n",
    "        print(f\"Processed {i+1} slabs. Current combo: {combo_name}\")\n",
    "\n",
    "# 最终保存\n",
    "df_results = pd.DataFrame(results)\n",
    "df_results.to_csv(os.path.join(main_output_dir, \"energy_results.csv\"), index=False)\n",
    "print(\"All tasks completed.\")"
   ],
   "outputs": [
    {
     "name": "stderr",
     "output_type": "stream",
     "text": [
      "INFO:root:Checking local cache: pretrained_models for model EquiformerV2-83M-S2EF-OC20-2M\n"
     ]
    }
   ],
   "execution_count": null
  },
  {
   "metadata": {},
   "cell_type": "code",
   "outputs": [],
   "execution_count": null,
   "source": "",
   "id": "5bae9be4d3c2394c"
  }
 ],
 "metadata": {
  "kernelspec": {
   "display_name": "Python 3",
   "language": "python",
   "name": "python3"
  },
  "language_info": {
   "codemirror_mode": {
    "name": "ipython",
    "version": 2
   },
   "file_extension": ".py",
   "mimetype": "text/x-python",
   "name": "python",
   "nbconvert_exporter": "python",
   "pygments_lexer": "ipython2",
   "version": "2.7.6"
  }
 },
 "nbformat": 4,
 "nbformat_minor": 5
}
